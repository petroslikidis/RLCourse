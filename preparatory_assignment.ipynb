{
 "cells": [
  {
   "cell_type": "markdown",
   "id": "intensive-arlington",
   "metadata": {},
   "source": [
    "#Imports"
   ]
  },
  {
   "cell_type": "code",
   "execution_count": 1,
   "id": "norman-freedom",
   "metadata": {},
   "outputs": [],
   "source": [
    "import torch\n",
    "from torch import nn\n",
    "from torch.utils.data import DataLoader\n",
    "from torchvision import datasets\n",
    "from torchvision.transforms import ToTensor, Lambda, Compose\n",
    "import matplotlib.pyplot as plt"
   ]
  },
  {
   "cell_type": "code",
   "execution_count": 2,
   "id": "incorporate-spanking",
   "metadata": {},
   "outputs": [],
   "source": [
    "#Parameters"
   ]
  },
  {
   "cell_type": "code",
   "execution_count": 3,
   "id": "female-engineering",
   "metadata": {},
   "outputs": [
    {
     "name": "stdout",
     "output_type": "stream",
     "text": [
      "Using cpu device\n"
     ]
    }
   ],
   "source": [
    "batch_size = 100\n",
    "learning_rate = 1e-4\n",
    "# Get cpu or gpu device for training.\n",
    "device = \"cuda\" if torch.cuda.is_available() else \"cpu\"\n",
    "print(\"Using {} device\".format(device))"
   ]
  },
  {
   "cell_type": "markdown",
   "id": "continent-vaccine",
   "metadata": {},
   "source": [
    "#Sets up the datasets"
   ]
  },
  {
   "cell_type": "code",
   "execution_count": 4,
   "id": "objective-kazakhstan",
   "metadata": {},
   "outputs": [
    {
     "name": "stdout",
     "output_type": "stream",
     "text": [
      "Downloading http://yann.lecun.com/exdb/mnist/train-images-idx3-ubyte.gz\n",
      "Failed to download (trying next):\n",
      "HTTP Error 503: Service Unavailable\n",
      "\n",
      "Downloading https://ossci-datasets.s3.amazonaws.com/mnist/train-images-idx3-ubyte.gz\n",
      "Downloading https://ossci-datasets.s3.amazonaws.com/mnist/train-images-idx3-ubyte.gz to data\\MNIST\\raw\\train-images-idx3-ubyte.gz\n"
     ]
    },
    {
     "name": "stderr",
     "output_type": "stream",
     "text": [
      "100.0%\n"
     ]
    },
    {
     "name": "stdout",
     "output_type": "stream",
     "text": [
      "Extracting data\\MNIST\\raw\\train-images-idx3-ubyte.gz to data\\MNIST\\raw\n",
      "\n",
      "Downloading http://yann.lecun.com/exdb/mnist/train-labels-idx1-ubyte.gz\n",
      "Failed to download (trying next):\n",
      "HTTP Error 503: Service Unavailable\n",
      "\n",
      "Downloading https://ossci-datasets.s3.amazonaws.com/mnist/train-labels-idx1-ubyte.gz\n",
      "Downloading https://ossci-datasets.s3.amazonaws.com/mnist/train-labels-idx1-ubyte.gz to data\\MNIST\\raw\\train-labels-idx1-ubyte.gz\n"
     ]
    },
    {
     "name": "stderr",
     "output_type": "stream",
     "text": [
      "102.8%\n"
     ]
    },
    {
     "name": "stdout",
     "output_type": "stream",
     "text": [
      "Extracting data\\MNIST\\raw\\train-labels-idx1-ubyte.gz to data\\MNIST\\raw\n",
      "\n",
      "Downloading http://yann.lecun.com/exdb/mnist/t10k-images-idx3-ubyte.gz\n",
      "Failed to download (trying next):\n",
      "HTTP Error 503: Service Unavailable\n",
      "\n",
      "Downloading https://ossci-datasets.s3.amazonaws.com/mnist/t10k-images-idx3-ubyte.gz\n",
      "Downloading https://ossci-datasets.s3.amazonaws.com/mnist/t10k-images-idx3-ubyte.gz to data\\MNIST\\raw\\t10k-images-idx3-ubyte.gz\n"
     ]
    },
    {
     "name": "stderr",
     "output_type": "stream",
     "text": [
      "100.0%\n"
     ]
    },
    {
     "name": "stdout",
     "output_type": "stream",
     "text": [
      "Extracting data\\MNIST\\raw\\t10k-images-idx3-ubyte.gz to data\\MNIST\\raw\n",
      "\n",
      "Downloading http://yann.lecun.com/exdb/mnist/t10k-labels-idx1-ubyte.gz\n",
      "Downloading http://yann.lecun.com/exdb/mnist/t10k-labels-idx1-ubyte.gz to data\\MNIST\\raw\\t10k-labels-idx1-ubyte.gz\n"
     ]
    },
    {
     "name": "stderr",
     "output_type": "stream",
     "text": [
      "112.7%\n",
      "C:\\Users\\scbaren\\.conda\\envs\\snakes\\lib\\site-packages\\torchvision\\datasets\\mnist.py:502: UserWarning: The given NumPy array is not writeable, and PyTorch does not support non-writeable tensors. This means you can write to the underlying (supposedly non-writeable) NumPy array using the tensor. You may want to copy the array to protect its data or make it writeable before converting it to a tensor. This type of warning will be suppressed for the rest of this program. (Triggered internally at  ..\\torch\\csrc\\utils\\tensor_numpy.cpp:143.)\n",
      "  return torch.from_numpy(parsed.astype(m[2], copy=False)).view(*s)\n"
     ]
    },
    {
     "name": "stdout",
     "output_type": "stream",
     "text": [
      "Extracting data\\MNIST\\raw\\t10k-labels-idx1-ubyte.gz to data\\MNIST\\raw\n",
      "\n",
      "Processing...\n",
      "Done!\n"
     ]
    }
   ],
   "source": [
    "training_data = datasets.MNIST(\n",
    "    root=\"data\",\n",
    "    train=True,\n",
    "    download=True,\n",
    "    transform=ToTensor(),\n",
    ")\n",
    "\n",
    "# Download test data from open datasets.\n",
    "test_data = datasets.MNIST(\n",
    "    root=\"data\",\n",
    "    train=False,\n",
    "    download=True,\n",
    "    transform=ToTensor(),\n",
    ")\n",
    "\n",
    "# Create data loaders.\n",
    "train_dataloader = DataLoader(training_data, batch_size=batch_size)\n",
    "test_dataloader = DataLoader(test_data, batch_size=batch_size)"
   ]
  },
  {
   "cell_type": "code",
   "execution_count": 30,
   "id": "answering-empty",
   "metadata": {},
   "outputs": [],
   "source": [
    "#Creates the model"
   ]
  },
  {
   "cell_type": "code",
   "execution_count": 31,
   "id": "drawn-virus",
   "metadata": {},
   "outputs": [],
   "source": [
    "# Define model\n",
    "class NeuralNetwork(nn.Module):\n",
    "    def __init__(self):\n",
    "        super(NeuralNetwork, self).__init__()\n",
    "        self.flatten = nn.Flatten()\n",
    "        self.linear_relu_stack = nn.Sequential(\n",
    "            nn.Linear(28*28, 512),\n",
    "            nn.ReLU(),\n",
    "            nn.Linear(512, 512),\n",
    "            nn.ReLU(),\n",
    "            nn.Linear(512, 10),\n",
    "            nn.ReLU()\n",
    "        )\n",
    "\n",
    "    def forward(self, x):\n",
    "        x = self.flatten(x)\n",
    "        logits = self.linear_relu_stack(x)\n",
    "        return logits\n",
    "\n",
    "model = NeuralNetwork().to(device)"
   ]
  },
  {
   "cell_type": "code",
   "execution_count": null,
   "id": "armed-hearts",
   "metadata": {},
   "outputs": [],
   "source": []
  },
  {
   "cell_type": "code",
   "execution_count": 32,
   "id": "sharp-premium",
   "metadata": {},
   "outputs": [],
   "source": [
    "loss_fn = nn.CrossEntropyLoss()\n",
    "optimizer = torch.optim.SGD(model.parameters(), lr=learning_rate)"
   ]
  },
  {
   "cell_type": "code",
   "execution_count": 33,
   "id": "assisted-closure",
   "metadata": {},
   "outputs": [],
   "source": [
    "def train(dataloader, model, loss_fn, optimizer):\n",
    "    size = len(dataloader.dataset)\n",
    "    for batch, (X, y) in enumerate(dataloader):\n",
    "        X, y = X.to(device), y.to(device)\n",
    "\n",
    "        # Compute prediction error\n",
    "        pred = model(X)\n",
    "        loss = loss_fn(pred, y)\n",
    "\n",
    "        # Backpropagation\n",
    "        optimizer.zero_grad()\n",
    "        loss.backward()\n",
    "        optimizer.step()\n",
    "\n",
    "        if batch % 100 == 0:\n",
    "            loss, current = loss.item(), batch * len(X)\n",
    "            print(f\"loss: {loss:>7f}  [{current:>5d}/{size:>5d}]\")"
   ]
  },
  {
   "cell_type": "code",
   "execution_count": 34,
   "id": "surgical-absorption",
   "metadata": {},
   "outputs": [],
   "source": [
    "def predict(dataloader, model):\n",
    "    size = len(dataloader.dataset)\n",
    "    model.eval()\n",
    "    test_loss, correct = 0, 0\n",
    "    with torch.no_grad():\n",
    "        for X, y in dataloader:\n",
    "            X, y = X.to(device), y.to(device)\n",
    "            pred = model(X)\n",
    "            test_loss += loss_fn(pred, y).item()\n",
    "            correct += (pred.argmax(1) == y).type(torch.float).sum().item()\n",
    "    test_loss /= size\n",
    "    correct /= size\n",
    "    print(f\"Test Error: \\n Accuracy: {(100*correct):>0.1f}%, Avg loss: {test_loss:>8f} \\n\")"
   ]
  },
  {
   "cell_type": "code",
   "execution_count": null,
   "id": "turned-eleven",
   "metadata": {},
   "outputs": [
    {
     "name": "stdout",
     "output_type": "stream",
     "text": [
      "Epoch 1\n",
      "-------------------------------\n",
      "loss: 2.302972  [    0/60000]\n",
      "loss: 2.301542  [10000/60000]\n",
      "loss: 2.299006  [20000/60000]\n",
      "loss: 2.303788  [30000/60000]\n",
      "loss: 2.303179  [40000/60000]\n",
      "loss: 2.304634  [50000/60000]\n",
      "Test Error: \n",
      " Accuracy: 12.5%, Avg loss: 0.023020 \n",
      "\n",
      "Epoch 2\n",
      "-------------------------------\n",
      "loss: 2.301812  [    0/60000]\n",
      "loss: 2.300163  [10000/60000]\n",
      "loss: 2.298050  [20000/60000]\n",
      "loss: 2.302883  [30000/60000]\n",
      "loss: 2.301927  [40000/60000]\n",
      "loss: 2.303749  [50000/60000]\n",
      "Test Error: \n",
      " Accuracy: 13.5%, Avg loss: 0.023008 \n",
      "\n",
      "Epoch 3\n",
      "-------------------------------\n",
      "loss: 2.300687  [    0/60000]\n",
      "loss: 2.298746  [10000/60000]\n",
      "loss: 2.297092  [20000/60000]\n",
      "loss: 2.301966  [30000/60000]\n",
      "loss: 2.300627  [40000/60000]\n",
      "loss: 2.302866  [50000/60000]\n",
      "Test Error: \n",
      " Accuracy: 14.5%, Avg loss: 0.022996 \n",
      "\n",
      "Epoch 4\n",
      "-------------------------------\n",
      "loss: 2.299602  [    0/60000]\n",
      "loss: 2.297323  [10000/60000]\n",
      "loss: 2.296118  [20000/60000]\n",
      "loss: 2.301043  [30000/60000]\n",
      "loss: 2.299293  [40000/60000]\n",
      "loss: 2.301975  [50000/60000]\n",
      "Test Error: \n",
      " Accuracy: 15.7%, Avg loss: 0.022984 \n",
      "\n",
      "Epoch 5\n",
      "-------------------------------\n",
      "loss: 2.298560  [    0/60000]\n",
      "loss: 2.295892  [10000/60000]\n",
      "loss: 2.295126  [20000/60000]\n",
      "loss: 2.300136  [30000/60000]\n",
      "loss: 2.297975  [40000/60000]\n",
      "loss: 2.301097  [50000/60000]\n",
      "Test Error: \n",
      " Accuracy: 17.2%, Avg loss: 0.022973 \n",
      "\n",
      "Epoch 6\n",
      "-------------------------------\n",
      "loss: 2.297547  [    0/60000]\n",
      "loss: 2.294461  [10000/60000]\n",
      "loss: 2.294127  [20000/60000]\n",
      "loss: 2.299246  [30000/60000]\n",
      "loss: 2.296665  [40000/60000]\n",
      "loss: 2.300236  [50000/60000]\n",
      "Test Error: \n",
      " Accuracy: 19.0%, Avg loss: 0.022961 \n",
      "\n",
      "Epoch 7\n",
      "-------------------------------\n",
      "loss: 2.296557  [    0/60000]\n",
      "loss: 2.293057  [10000/60000]\n",
      "loss: 2.293120  [20000/60000]\n",
      "loss: 2.298376  [30000/60000]\n",
      "loss: 2.295361  [40000/60000]\n",
      "loss: 2.299393  [50000/60000]\n",
      "Test Error: \n",
      " Accuracy: 20.7%, Avg loss: 0.022949 \n",
      "\n",
      "Epoch 8\n",
      "-------------------------------\n",
      "loss: 2.295602  [    0/60000]\n",
      "loss: 2.291677  [10000/60000]\n",
      "loss: 2.292114  [20000/60000]\n",
      "loss: 2.297505  [30000/60000]\n",
      "loss: 2.294054  [40000/60000]\n",
      "loss: 2.298554  [50000/60000]\n",
      "Test Error: \n",
      " Accuracy: 22.4%, Avg loss: 0.022937 \n",
      "\n",
      "Epoch 9\n",
      "-------------------------------\n",
      "loss: 2.294658  [    0/60000]\n",
      "loss: 2.290313  [10000/60000]\n",
      "loss: 2.291099  [20000/60000]\n",
      "loss: 2.296646  [30000/60000]\n",
      "loss: 2.292760  [40000/60000]\n",
      "loss: 2.297709  [50000/60000]\n",
      "Test Error: \n",
      " Accuracy: 23.8%, Avg loss: 0.022926 \n",
      "\n",
      "Epoch 10\n",
      "-------------------------------\n",
      "loss: 2.293740  [    0/60000]\n",
      "loss: 2.288959  [10000/60000]\n",
      "loss: 2.290066  [20000/60000]\n",
      "loss: 2.295795  [30000/60000]\n",
      "loss: 2.291478  [40000/60000]\n",
      "loss: 2.296856  [50000/60000]\n",
      "Test Error: \n",
      " Accuracy: 25.0%, Avg loss: 0.022914 \n",
      "\n",
      "Epoch 11\n",
      "-------------------------------\n",
      "loss: 2.292845  [    0/60000]\n",
      "loss: 2.287609  [10000/60000]\n",
      "loss: 2.289017  [20000/60000]\n",
      "loss: 2.294942  [30000/60000]\n",
      "loss: 2.290197  [40000/60000]\n",
      "loss: 2.296015  [50000/60000]\n",
      "Test Error: \n",
      " Accuracy: 26.0%, Avg loss: 0.022903 \n",
      "\n",
      "Epoch 12\n",
      "-------------------------------\n",
      "loss: 2.291976  [    0/60000]\n",
      "loss: 2.286266  [10000/60000]\n",
      "loss: 2.287955  [20000/60000]\n",
      "loss: 2.294100  [30000/60000]\n",
      "loss: 2.288908  [40000/60000]\n",
      "loss: 2.295173  [50000/60000]\n",
      "Test Error: \n",
      " Accuracy: 26.9%, Avg loss: 0.022891 \n",
      "\n",
      "Epoch 13\n",
      "-------------------------------\n",
      "loss: 2.291123  [    0/60000]\n",
      "loss: 2.284920  [10000/60000]\n",
      "loss: 2.286877  [20000/60000]\n",
      "loss: 2.293261  [30000/60000]\n",
      "loss: 2.287601  [40000/60000]\n",
      "loss: 2.294338  [50000/60000]\n",
      "Test Error: \n",
      " Accuracy: 27.7%, Avg loss: 0.022880 \n",
      "\n",
      "Epoch 14\n",
      "-------------------------------\n",
      "loss: 2.290275  [    0/60000]\n",
      "loss: 2.283574  [10000/60000]\n",
      "loss: 2.285777  [20000/60000]\n",
      "loss: 2.292428  [30000/60000]\n",
      "loss: 2.286287  [40000/60000]\n",
      "loss: 2.293497  [50000/60000]\n",
      "Test Error: \n",
      " Accuracy: 28.3%, Avg loss: 0.022868 \n",
      "\n",
      "Epoch 15\n",
      "-------------------------------\n",
      "loss: 2.289429  [    0/60000]\n",
      "loss: 2.282231  [10000/60000]\n",
      "loss: 2.284656  [20000/60000]\n",
      "loss: 2.291596  [30000/60000]\n",
      "loss: 2.284964  [40000/60000]\n",
      "loss: 2.292642  [50000/60000]\n",
      "Test Error: \n",
      " Accuracy: 28.8%, Avg loss: 0.022857 \n",
      "\n",
      "Epoch 16\n",
      "-------------------------------\n",
      "loss: 2.288577  [    0/60000]\n",
      "loss: 2.280872  [10000/60000]\n",
      "loss: 2.283517  [20000/60000]\n",
      "loss: 2.290764  [30000/60000]\n",
      "loss: 2.283627  [40000/60000]\n",
      "loss: 2.291774  [50000/60000]\n",
      "Test Error: \n",
      " Accuracy: 29.3%, Avg loss: 0.022845 \n",
      "\n",
      "Epoch 17\n",
      "-------------------------------\n",
      "loss: 2.287716  [    0/60000]\n",
      "loss: 2.279504  [10000/60000]\n",
      "loss: 2.282360  [20000/60000]\n",
      "loss: 2.289928  [30000/60000]\n",
      "loss: 2.282264  [40000/60000]\n",
      "loss: 2.290900  [50000/60000]\n",
      "Test Error: \n",
      " Accuracy: 29.6%, Avg loss: 0.022833 \n",
      "\n",
      "Epoch 18\n",
      "-------------------------------\n",
      "loss: 2.286844  [    0/60000]\n",
      "loss: 2.278122  [10000/60000]\n",
      "loss: 2.281187  [20000/60000]\n",
      "loss: 2.289078  [30000/60000]\n",
      "loss: 2.280863  [40000/60000]\n"
     ]
    }
   ],
   "source": [
    "epochs = 500\n",
    "for t in range(epochs):\n",
    "    print(f\"Epoch {t+1}\\n-------------------------------\")\n",
    "    train(train_dataloader, model, loss_fn, optimizer)\n",
    "    predict(test_dataloader, model)\n",
    "print(\"Done!\")"
   ]
  },
  {
   "cell_type": "code",
   "execution_count": null,
   "id": "attempted-shape",
   "metadata": {},
   "outputs": [],
   "source": [
    "figure = plt.figure(figsize=(8, 8))\n",
    "cols, rows = 3, 3\n",
    "for i in range(1, cols * rows + 1):\n",
    "    sample_idx = torch.randint(len(training_data), size=(1,)).item()\n",
    "    img, label = training_data[sample_idx]\n",
    "    figure.add_subplot(rows, cols, i)\n",
    "    plt.title(label)\n",
    "    plt.axis(\"off\")\n",
    "    plt.imshow(img.squeeze(), cmap=\"gray\")\n",
    "plt.show()"
   ]
  },
  {
   "cell_type": "code",
   "execution_count": null,
   "id": "charitable-feeding",
   "metadata": {},
   "outputs": [],
   "source": []
  },
  {
   "cell_type": "code",
   "execution_count": null,
   "id": "convinced-image",
   "metadata": {},
   "outputs": [],
   "source": []
  },
  {
   "cell_type": "code",
   "execution_count": null,
   "id": "electric-differential",
   "metadata": {},
   "outputs": [],
   "source": []
  }
 ],
 "metadata": {
  "kernelspec": {
   "display_name": "Python 3",
   "language": "python",
   "name": "python3"
  },
  "language_info": {
   "codemirror_mode": {
    "name": "ipython",
    "version": 3
   },
   "file_extension": ".py",
   "mimetype": "text/x-python",
   "name": "python",
   "nbconvert_exporter": "python",
   "pygments_lexer": "ipython3",
   "version": "3.9.2"
  }
 },
 "nbformat": 4,
 "nbformat_minor": 5
}

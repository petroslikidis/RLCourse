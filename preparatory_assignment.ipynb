{
 "cells": [
  {
   "cell_type": "markdown",
   "id": "attached-indiana",
   "metadata": {},
   "source": [
    "#Imports"
   ]
  },
  {
   "cell_type": "code",
   "execution_count": null,
   "id": "individual-institution",
   "metadata": {},
   "outputs": [],
   "source": [
    "import torch\n",
    "from torch import nn\n",
    "from torch.utils.data import DataLoader\n",
    "from torchvision import datasets\n",
    "from torchvision.transforms import ToTensor, Lambda, Compose\n",
    "import matplotlib.pyplot as plt\n",
    "from torch.utils.tensorboard import SummaryWriter"
   ]
  },
  {
   "cell_type": "markdown",
   "id": "secondary-candle",
   "metadata": {},
   "source": [
    "#Parameters"
   ]
  },
  {
   "cell_type": "code",
   "execution_count": null,
   "id": "chronic-trinidad",
   "metadata": {},
   "outputs": [],
   "source": [
    "input_size = 28*28\n",
    "output_size = 10\n",
    "#batch_size = 32\n",
    "learning_rate = 1e-3\n",
    "#no_of_nodes = 128\n",
    "epochs = 50\n",
    "# Get cpu or gpu device for training.\n",
    "device = \"cuda\" if torch.cuda.is_available() else \"cpu\"\n",
    "print(\"Using {} device\".format(device))\n",
    "loss_fn = nn.CrossEntropyLoss()"
   ]
  },
  {
   "cell_type": "markdown",
   "id": "relative-october",
   "metadata": {},
   "source": [
    "#Methods for training and testing"
   ]
  },
  {
   "cell_type": "code",
   "execution_count": null,
   "id": "brown-ivory",
   "metadata": {},
   "outputs": [],
   "source": [
    "def train(dataloader, model, loss_fn, optimizer):\n",
    "    size = len(dataloader.dataset)\n",
    "    for batch, (X, y) in enumerate(dataloader):\n",
    "        X, y = X.to(device), y.to(device)\n",
    "\n",
    "        # Compute prediction error\n",
    "        pred = model(X)\n",
    "        loss = loss_fn(pred, y)\n",
    "\n",
    "        # Backpropagation\n",
    "        optimizer.zero_grad()\n",
    "        loss.backward()\n",
    "        optimizer.step()\n",
    "\n",
    "def test(dataloader, model, epoch):\n",
    "    size = len(dataloader.dataset)\n",
    "    model.eval()\n",
    "    test_loss, correct = 0, 0\n",
    "    with torch.no_grad():\n",
    "        for X, y in dataloader:\n",
    "            X, y = X.to(device), y.to(device)\n",
    "            pred = model(X)\n",
    "            test_loss += loss_fn(pred, y).item()\n",
    "            correct += (pred.argmax(1) == y).type(torch.float).sum().item()\n",
    "    test_loss /= size\n",
    "    correct /= size\n",
    "    writer.add_scalar(\"Avg loss\", test_loss, epoch)\n",
    "    writer.add_scalar(\"Accuracy\", correct * 100, epoch)"
   ]
  },
  {
   "cell_type": "code",
   "execution_count": null,
   "id": "conservative-stable",
   "metadata": {},
   "outputs": [],
   "source": [
    "#Loads data sets"
   ]
  },
  {
   "cell_type": "code",
   "execution_count": null,
   "id": "adjustable-collectible",
   "metadata": {},
   "outputs": [],
   "source": [
    "training_data = datasets.MNIST(\n",
    "    root=\"data\",\n",
    "    train=True,\n",
    "    download=True,\n",
    "    transform=ToTensor(),\n",
    ")\n",
    "\n",
    "# Download test data from open datasets.\n",
    "test_data = datasets.MNIST(\n",
    "    root=\"data\",\n",
    "    train=False,\n",
    "    download=True,\n",
    "    transform=ToTensor(),\n",
    ")\n",
    "\n"
   ]
  },
  {
   "cell_type": "markdown",
   "id": "driven-factory",
   "metadata": {},
   "source": [
    "#Runs the training and test with diffrent parameters"
   ]
  },
  {
   "cell_type": "code",
   "execution_count": null,
   "id": "obvious-ticket",
   "metadata": {},
   "outputs": [],
   "source": [
    "# Define model\n",
    "for no_of_nodes in [64,128,256,512]:\n",
    "  class NeuralNetwork(nn.Module):\n",
    "      def __init__(self):\n",
    "          super(NeuralNetwork, self).__init__()\n",
    "          self.flatten = nn.Flatten()\n",
    "          self.linear_relu_stack = nn.Sequential(\n",
    "              nn.Linear(input_size, no_of_nodes),\n",
    "              nn.ReLU(),\n",
    "              nn.Linear(no_of_nodes, no_of_nodes),\n",
    "              nn.ReLU(),\n",
    "              nn.Linear(no_of_nodes, no_of_nodes),\n",
    "              nn.ReLU(),\n",
    "              nn.Linear(no_of_nodes, output_size),\n",
    "              nn.ReLU()\n",
    "          )\n",
    "\n",
    "      def forward(self, x):\n",
    "          x = self.flatten(x)\n",
    "          logits = self.linear_relu_stack(x)\n",
    "          return logits\n",
    "\n",
    "  \n",
    "  for batch_size in [32,64,128]:\n",
    "    train_dataloader = DataLoader(training_data, batch_size=batch_size, shuffle=True)\n",
    "    test_dataloader = DataLoader(test_data, batch_size=batch_size, shuffle=True)\n",
    "    model = NeuralNetwork().to(device)\n",
    "    #creates a writer using params as the name of the run\n",
    "    writer = SummaryWriter(comment=f'NN_2_hidden_layers__nodes_count_{no_of_nodes}__batch_size_{batch_size}__lr_{learning_rate}')\n",
    "    optimizer = torch.optim.SGD(model.parameters(), lr=learning_rate)\n",
    "\n",
    "    for t in range(epochs):\n",
    "        print(f'Epoch {t+1} NN_2_hidden_layers__nodes_count_{no_of_nodes}__batch_size_{batch_size}__lr_{learning_rate}')\n",
    "        train(train_dataloader, model, loss_fn, optimizer)\n",
    "        test(test_dataloader, model, t+1)\n",
    "    writer.flush()"
   ]
  },
  {
   "cell_type": "code",
   "execution_count": null,
   "id": "naughty-mattress",
   "metadata": {},
   "outputs": [],
   "source": [
    "%load_ext tensorboard\n",
    "%tensorboard --logdir runs"
   ]
  },
  {
   "cell_type": "code",
   "execution_count": null,
   "id": "recognized-intermediate",
   "metadata": {},
   "outputs": [],
   "source": []
  }
 ],
 "metadata": {
  "kernelspec": {
   "display_name": "Python 3",
   "language": "python",
   "name": "python3"
  },
  "language_info": {
   "codemirror_mode": {
    "name": "ipython",
    "version": 3
   },
   "file_extension": ".py",
   "mimetype": "text/x-python",
   "name": "python",
   "nbconvert_exporter": "python",
   "pygments_lexer": "ipython3",
   "version": "3.9.2"
  }
 },
 "nbformat": 4,
 "nbformat_minor": 5
}

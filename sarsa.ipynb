{
 "cells": [
  {
   "cell_type": "code",
   "execution_count": null,
   "metadata": {
    "colab": {
     "base_uri": "https://localhost:8080/"
    },
    "executionInfo": {
     "elapsed": 3923,
     "status": "ok",
     "timestamp": 1604649124805,
     "user": {
      "displayName": "Petros Likidis",
      "photoUrl": "https://lh3.googleusercontent.com/a-/AOh14Gi8o0YagqTF0c2IVILjHoIhdUwx4jJ1FL89rkWXfw=s64",
      "userId": "13211937207573446088"
     },
     "user_tz": -60
    },
    "id": "XfVv8L5FXO-V",
    "outputId": "9471203d-b7a0-414d-e30a-43c70b997f50"
   },
   "outputs": [],
   "source": [
    "!pip install --user matplotlib"
   ]
  },
  {
   "cell_type": "code",
   "execution_count": null,
   "metadata": {
    "executionInfo": {
     "elapsed": 1188,
     "status": "ok",
     "timestamp": 1604649127151,
     "user": {
      "displayName": "Petros Likidis",
      "photoUrl": "https://lh3.googleusercontent.com/a-/AOh14Gi8o0YagqTF0c2IVILjHoIhdUwx4jJ1FL89rkWXfw=s64",
      "userId": "13211937207573446088"
     },
     "user_tz": -60
    },
    "id": "BudsehWVXO-a"
   },
   "outputs": [],
   "source": [
    "import gym\n",
    "import numpy as np\n",
    "import random\n",
    "import matplotlib.pyplot as plt\n",
    "from collections import defaultdict"
   ]
  },
  {
   "cell_type": "code",
   "execution_count": null,
   "metadata": {
    "executionInfo": {
     "elapsed": 619,
     "status": "ok",
     "timestamp": 1604649128230,
     "user": {
      "displayName": "Petros Likidis",
      "photoUrl": "https://lh3.googleusercontent.com/a-/AOh14Gi8o0YagqTF0c2IVILjHoIhdUwx4jJ1FL89rkWXfw=s64",
      "userId": "13211937207573446088"
     },
     "user_tz": -60
    },
    "id": "tFDGxzaNXO-e"
   },
   "outputs": [],
   "source": [
    "def epsilon_greedy(Q, S, epsilon):\n",
    "    if random.uniform(0, 1) <= (1 - epsilon + (epsilon / len(Q[S]))):\n",
    "        return np.argmax(Q[S])\n",
    "    \n",
    "    return random.randrange(len(Q[S]))\n",
    "                            "
   ]
  },
  {
   "cell_type": "code",
   "execution_count": null,
   "metadata": {
    "executionInfo": {
     "elapsed": 738,
     "status": "ok",
     "timestamp": 1604649130510,
     "user": {
      "displayName": "Petros Likidis",
      "photoUrl": "https://lh3.googleusercontent.com/a-/AOh14Gi8o0YagqTF0c2IVILjHoIhdUwx4jJ1FL89rkWXfw=s64",
      "userId": "13211937207573446088"
     },
     "user_tz": -60
    },
    "id": "J0yYoy5ii5fK"
   },
   "outputs": [],
   "source": [
    "def default_state_space(observation):\n",
    "    return observation\n"
   ]
  },
  {
   "cell_type": "code",
   "execution_count": null,
   "metadata": {},
   "outputs": [],
   "source": [
    "def get_stats(env, Q, state_space_fn, number_of_runs=1000, max_steps=500):\n",
    "    \n",
    "    total_reward = 0\n",
    "    total_steps = 0\n",
    "    for run in range(number_of_runs):\n",
    "        done = False\n",
    "        state = state_space_fn(env.reset())\n",
    "        steps = 0\n",
    "        while not done:\n",
    "            state, reward, done, info = env.step(np.argmax(Q[state]))\n",
    "            state = state_space_fn(state)\n",
    "            total_reward += reward\n",
    "            steps += 1\n",
    "            if steps == max_steps:\n",
    "                break;\n",
    "        total_steps += steps\n",
    "        #print('Run:', run)\n",
    "    return total_reward / number_of_runs, total_steps / number_of_runs\n"
   ]
  },
  {
   "cell_type": "code",
   "execution_count": null,
   "metadata": {
    "executionInfo": {
     "elapsed": 619,
     "status": "ok",
     "timestamp": 1604649134535,
     "user": {
      "displayName": "Petros Likidis",
      "photoUrl": "https://lh3.googleusercontent.com/a-/AOh14Gi8o0YagqTF0c2IVILjHoIhdUwx4jJ1FL89rkWXfw=s64",
      "userId": "13211937207573446088"
     },
     "user_tz": -60
    },
    "id": "MR1igU8vXO-i"
   },
   "outputs": [],
   "source": [
    "def sarsa(env, gamma, number_of_episodes=500, step_size=0.1, epsilon=0.1, state_space_fn=default_state_space):\n",
    "    Q = defaultdict(lambda: np.zeros(env.action_space.n))\n",
    "    sum_of_steps = []\n",
    "    avg_number_of_steps = []\n",
    "    avg_rewards = []\n",
    "    sample_episodes = np.linspace(0,number_of_episodes,500, False)\n",
    "    \n",
    "    for episode in range(number_of_episodes):\n",
    "        S = state_space_fn(env.reset())\n",
    "        done = False\n",
    "        step_count = 0\n",
    "        A = epsilon_greedy(Q, S, epsilon)\n",
    "        while not done:\n",
    "            S_next, reward, done, info = env.step(A)\n",
    "            S_next = state_space_fn(S_next)\n",
    "            A_next = epsilon_greedy(Q, S_next, epsilon)\n",
    "            step_count += 1\n",
    "            \n",
    "            if done:\n",
    "                Q[S][A] = 0\n",
    "                sum_of_steps.append(step_count)\n",
    "            else:\n",
    "                Q[S][A] = Q[S][A] + step_size * (reward + gamma * (Q[S_next][A_next] - Q[S][A]))\n",
    "            \n",
    "            S = S_next\n",
    "            A = A_next\n",
    "            \n",
    "         \n",
    "        #Get stats of how good it performes after each episod\n",
    "        if episode in sample_episodes:\n",
    "            avg_reward, avg_steps = get_stats(env, Q, state_space_fn)\n",
    "            avg_number_of_steps.append(avg_steps)\n",
    "            avg_rewards.append(avg_reward)\n",
    "            #print('Episod:', episode)\n",
    "            \n",
    "    #fig = plt.figure(figsize=(20,10))\n",
    "    #plt.plot(sample_episodes, avg_rewards, 'b')\n",
    "    #plt.plot(sample_episodes, avg_number_of_steps, 'r')\n",
    "    #plt.ylabel('average reward')\n",
    "    #plt.xlabel('Episode')\n",
    "    #plt.show()\n",
    "    \n",
    "    return Q, sample_episodes, avg_rewards"
   ]
  },
  {
   "cell_type": "code",
   "execution_count": null,
   "metadata": {
    "executionInfo": {
     "elapsed": 848,
     "status": "ok",
     "timestamp": 1604649138140,
     "user": {
      "displayName": "Petros Likidis",
      "photoUrl": "https://lh3.googleusercontent.com/a-/AOh14Gi8o0YagqTF0c2IVILjHoIhdUwx4jJ1FL89rkWXfw=s64",
      "userId": "13211937207573446088"
     },
     "user_tz": -60
    },
    "id": "MvfjTi97XO-l"
   },
   "outputs": [],
   "source": [
    "def expected_sum(Q, S, epsilon):\n",
    "    sum = 0\n",
    "    number_of_actions = len(Q[S])\n",
    "    A_optimal = np.argmax(Q[S])\n",
    "    for A in range(number_of_actions):\n",
    "        if A == A_optimal:\n",
    "            sum += (1 - epsilon + epsilon / number_of_actions) * Q[S][A]\n",
    "        else:\n",
    "            sum += (epsilon / number_of_actions) * Q[S][A]\n",
    "    return sum"
   ]
  },
  {
   "cell_type": "code",
   "execution_count": null,
   "metadata": {
    "executionInfo": {
     "elapsed": 723,
     "status": "ok",
     "timestamp": 1604649139695,
     "user": {
      "displayName": "Petros Likidis",
      "photoUrl": "https://lh3.googleusercontent.com/a-/AOh14Gi8o0YagqTF0c2IVILjHoIhdUwx4jJ1FL89rkWXfw=s64",
      "userId": "13211937207573446088"
     },
     "user_tz": -60
    },
    "id": "rE90TGs3XO-o"
   },
   "outputs": [],
   "source": [
    "def expected_sarsa(env, gamma, number_of_episodes=500, step_size=0.1, epsilon=0.1, state_space_fn=default_state_space):\n",
    "    Q = defaultdict(lambda: np.zeros(env.action_space.n))\n",
    "    sum_of_steps = []\n",
    "    avg_number_of_steps = []\n",
    "    avg_rewards = []\n",
    "    sample_episodes = np.linspace(0,number_of_episodes,500, False)\n",
    "    \n",
    "    for episode in range(number_of_episodes):\n",
    "        S = state_space_fn(env.reset())\n",
    "        done = False\n",
    "        step_count = 0\n",
    "        A = epsilon_greedy(Q, S, epsilon)\n",
    "        \n",
    "        while not done:\n",
    "            S_next, reward, done, info = env.step(A)\n",
    "            S_next = state_space_fn(S_next)\n",
    "            A_next = epsilon_greedy(Q, S_next, epsilon)\n",
    "            step_count += 1\n",
    "            \n",
    "            if done:\n",
    "                Q[S][A] = 0\n",
    "                sum_of_steps.append(step_count)\n",
    "            else:\n",
    "                Q[S][A] = Q[S][A] + step_size * (reward + gamma * (expected_sum(Q, S_next, epsilon) - Q[S][A]))\n",
    "            \n",
    "            S = S_next\n",
    "            A = A_next\n",
    "            \n",
    "        #Get stats of how good it performes after each episod\n",
    "        if episode in sample_episodes:\n",
    "            avg_reward, avg_steps = get_stats(env, Q, state_space_fn)\n",
    "            avg_number_of_steps.append(avg_steps)\n",
    "            avg_rewards.append(avg_reward)\n",
    "            #print('Episod:', episode)\n",
    "            \n",
    "    #fig = plt.figure(figsize=(20,10))\n",
    "    #plt.plot(sample_episodes, avg_rewards, 'b')\n",
    "    #plt.plot(sample_episodes, avg_number_of_steps, 'r')\n",
    "    #plt.ylabel('average reward')\n",
    "    #plt.xlabel('Episode')\n",
    "    #plt.show()\n",
    "    \n",
    "    return Q, sample_episodes, avg_rewards"
   ]
  },
  {
   "cell_type": "code",
   "execution_count": null,
   "metadata": {
    "colab": {
     "base_uri": "https://localhost:8080/",
     "height": 374
    },
    "executionInfo": {
     "elapsed": 1760,
     "status": "ok",
     "timestamp": 1604649143537,
     "user": {
      "displayName": "Petros Likidis",
      "photoUrl": "https://lh3.googleusercontent.com/a-/AOh14Gi8o0YagqTF0c2IVILjHoIhdUwx4jJ1FL89rkWXfw=s64",
      "userId": "13211937207573446088"
     },
     "user_tz": -60
    },
    "id": "UgdEybf1XO-s",
    "outputId": "04c14469-2ce0-4683-e492-27288dcf8f0d"
   },
   "outputs": [],
   "source": [
    "env = gym.make('CliffWalking-v0')\n",
    "env.reset()\n",
    "\n",
    "Q1, sample_episodes, avg_rewards_q1 = sarsa(env, 1.0, 500, epsilon=0.11, step_size= 0.2)\n",
    "Q2, sample_episodes, avg_rewards_q2 = expected_sarsa(env, 1.0, 500, epsilon=0.11, step_size= 0.2)\n",
    "\n",
    "env.close()\n",
    "\n",
    "fig = plt.figure(figsize=(20,10))\n",
    "plt.plot(sample_episodes, avg_rewards_q1, 'b')\n",
    "plt.plot(sample_episodes, avg_rewards_q2, 'r')\n",
    "plt.ylabel('average reward')\n",
    "plt.xlabel('Episode')\n",
    "plt.show()"
   ]
  },
  {
   "cell_type": "code",
   "execution_count": null,
   "metadata": {
    "colab": {
     "base_uri": "https://localhost:8080/",
     "height": 282
    },
    "executionInfo": {
     "elapsed": 1110,
     "status": "ok",
     "timestamp": 1604498690450,
     "user": {
      "displayName": "",
      "photoUrl": "",
      "userId": ""
     },
     "user_tz": -60
    },
    "id": "n8NO7kROXO-w",
    "outputId": "3fbfbb33-e34f-4900-ee91-7addb270d92a"
   },
   "outputs": [],
   "source": [
    "env = gym.make('Blackjack-v0')\n",
    "\n",
    "Q1, sample_episodes, avg_rewards_q1 = sarsa(env, 0.9, 50000)\n",
    "Q2, sample_episodes, avg_rewards_q2 = expected_sarsa(env, 0.9, 50000)\n",
    "\n",
    "env.close()\n",
    "\n",
    "fig = plt.figure(figsize=(20,10))\n",
    "plt.plot(sample_episodes, avg_rewards_q1, 'b')\n",
    "plt.plot(sample_episodes, avg_rewards_q2, 'r')\n",
    "plt.ylabel('average reward')\n",
    "plt.xlabel('Episode')\n",
    "plt.show()"
   ]
  },
  {
   "cell_type": "code",
   "execution_count": null,
   "metadata": {
    "executionInfo": {
     "elapsed": 610,
     "status": "ok",
     "timestamp": 1604649169685,
     "user": {
      "displayName": "Petros Likidis",
      "photoUrl": "https://lh3.googleusercontent.com/a-/AOh14Gi8o0YagqTF0c2IVILjHoIhdUwx4jJ1FL89rkWXfw=s64",
      "userId": "13211937207573446088"
     },
     "user_tz": -60
    },
    "id": "xMiejFRlXr7Z"
   },
   "outputs": [],
   "source": [
    "d_space = [np.linspace(-4.8, 4.8, 40),\n",
    "           np.linspace(-2, 2, 40),\n",
    "           np.linspace(-0.418,0.418, 48),\n",
    "           np.linspace(-2, 2, 40)]\n",
    "\n",
    "def d_cartpole_state_space(observation):\n",
    "    return tuple(int(np.digitize(l, g)) for l, g in zip(observation, d_space))\n",
    "\n",
    "env = gym.make('CartPole-v1')\n",
    "\n",
    "Q1, sample_episodes, avg_rewards_q1 = sarsa(env, 1.0, 50000, state_space_fn=d_cartpole_state_space)\n",
    "Q2, sample_episodes, avg_rewards_q2 = expected_sarsa(env, 1.0, 50000, state_space_fn=d_cartpole_state_space)\n",
    "\n",
    "env.close()\n",
    "\n",
    "fig = plt.figure(figsize=(20,10))\n",
    "plt.plot(sample_episodes, avg_rewards_q1, 'b')\n",
    "plt.plot(sample_episodes, avg_rewards_q2, 'r')\n",
    "plt.ylabel('average reward')\n",
    "plt.xlabel('Episode')\n",
    "plt.show()"
   ]
  },
  {
   "cell_type": "code",
   "execution_count": null,
   "metadata": {},
   "outputs": [],
   "source": []
  }
 ],
 "metadata": {
  "colab": {
   "collapsed_sections": [],
   "name": "Kopia av sarsa.ipynb",
   "provenance": [
    {
     "file_id": "https://github.com/petroslikidis/RLCourse/blob/main/sarsa.ipynb",
     "timestamp": 1604504935501
    }
   ]
  },
  "kernelspec": {
   "display_name": "Python 3",
   "language": "python",
   "name": "python3"
  },
  "language_info": {
   "codemirror_mode": {
    "name": "ipython",
    "version": 3
   },
   "file_extension": ".py",
   "mimetype": "text/x-python",
   "name": "python",
   "nbconvert_exporter": "python",
   "pygments_lexer": "ipython3",
   "version": "3.5.2"
  }
 },
 "nbformat": 4,
 "nbformat_minor": 4
}